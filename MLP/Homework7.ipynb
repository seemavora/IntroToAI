{
 "cells": [
  {
   "cell_type": "code",
   "execution_count": 72,
   "id": "6394a8dd",
   "metadata": {},
   "outputs": [],
   "source": [
    "import numpy as np\n",
    "import pandas as pd\n",
    "from sklearn import datasets\n",
    "import matplotlib.pyplot as plt\n",
    "import seaborn as sns\n",
    "from sklearn.model_selection import train_test_split\n",
    "from sklearn.datasets import load_digits\n",
    "from sklearn.tree import DecisionTreeClassifier\n",
    "from sklearn.neural_network import MLPClassifier\n",
    "from sklearn.model_selection import cross_val_score\n",
    "from sklearn.metrics import plot_confusion_matrix\n",
    "from sklearn.linear_model import Perceptron\n",
    "from sklearn.ensemble import RandomForestClassifier\n",
    "from sklearn.preprocessing import StandardScaler\n",
    "from sklearn.model_selection import cross_val_score\n",
    "\n",
    "\n"
   ]
  },
  {
   "cell_type": "code",
   "execution_count": 73,
   "id": "ea92a6a9",
   "metadata": {},
   "outputs": [],
   "source": [
    "n_samples = len(mnist.images)\n",
    "images = mnist.images.reshape((n_samples, -1))\n",
    "labels = mnist.target"
   ]
  },
  {
   "cell_type": "code",
   "execution_count": 74,
   "id": "228c15a4",
   "metadata": {},
   "outputs": [],
   "source": [
    "np.random.seed(42)\n",
    "mnist = load_digits()\n",
    "testScore = []\n",
    "modelScore = []"
   ]
  },
  {
   "cell_type": "code",
   "execution_count": 75,
   "id": "dd0e5e29",
   "metadata": {},
   "outputs": [
    {
     "data": {
      "text/plain": [
       "((1437, 64), (1437,), (360, 64), (360,))"
      ]
     },
     "execution_count": 75,
     "metadata": {},
     "output_type": "execute_result"
    }
   ],
   "source": [
    "X_train, X_test, Y_train, Y_test = train_test_split(images, labels, test_size=0.2, random_state=0)\n",
    "X_train.shape, Y_train.shape, X_test.shape, Y_test.shape"
   ]
  },
  {
   "cell_type": "code",
   "execution_count": 76,
   "id": "93863557",
   "metadata": {},
   "outputs": [],
   "source": [
    "model = MLPClassifier(random_state=1, max_iter=300).fit(X_train, Y_train)"
   ]
  },
  {
   "cell_type": "code",
   "execution_count": 77,
   "id": "5999aa25",
   "metadata": {},
   "outputs": [
    {
     "data": {
      "text/plain": [
       "(array([[2.29741465e-08, 1.50524694e-07, 9.99999774e-01, 9.74397916e-09,\n",
       "         2.37134568e-10, 1.75499937e-08, 6.08539830e-12, 2.57281599e-09,\n",
       "         2.24491962e-08, 3.16197453e-11]]),\n",
       " [2])"
      ]
     },
     "execution_count": 77,
     "metadata": {},
     "output_type": "execute_result"
    }
   ],
   "source": [
    "model.predict_proba([X_test[0]]), [Y_test[0]]"
   ]
  },
  {
   "cell_type": "code",
   "execution_count": 78,
   "id": "427e9040",
   "metadata": {},
   "outputs": [
    {
     "data": {
      "image/png": "[encoded data removed]",
      "text/plain": [
       "<Figure size 432x288 with 1 Axes>"
      ]
     },
     "metadata": {},
     "output_type": "display_data"
    }
   ],
   "source": [
    "fig = plt.figure\n",
    "plt.imshow(X_test[0].reshape((8,8)), cmap='gray')\n",
    "plt.show()"
   ]
  },
  {
   "cell_type": "code",
   "execution_count": 79,
   "id": "7ece5ebb",
   "metadata": {},
   "outputs": [
    {
     "data": {
      "text/plain": [
       "array([2, 8, 2, 6, 6])"
      ]
     },
     "execution_count": 79,
     "metadata": {},
     "output_type": "execute_result"
    }
   ],
   "source": [
    "model.predict(X_test[:5, :])"
   ]
  },
  {
   "cell_type": "code",
   "execution_count": 80,
   "id": "2602b2c5",
   "metadata": {},
   "outputs": [
    {
     "data": {
      "image/png": "[encoded data removed]",
      "text/plain": [
       "<Figure size 432x288 with 1 Axes>"
      ]
     },
     "metadata": {},
     "output_type": "display_data"
    }
   ],
   "source": [
    "fig = plt.figure\n",
    "plt.imshow(X_test[3].reshape((8,8)), cmap='gray')\n",
    "plt.show()"
   ]
  },
  {
   "cell_type": "code",
   "execution_count": 81,
   "id": "d172c161",
   "metadata": {},
   "outputs": [
    {
     "data": {
      "text/plain": [
       "0.975"
      ]
     },
     "execution_count": 81,
     "metadata": {},
     "output_type": "execute_result"
    }
   ],
   "source": [
    "model.score(X_test, Y_test)"
   ]
  },
  {
   "cell_type": "code",
   "execution_count": 82,
   "id": "2d70b0ba",
   "metadata": {},
   "outputs": [
    {
     "name": "stdout",
     "output_type": "stream",
     "text": [
      "Model score 1:  0.975\n"
     ]
    }
   ],
   "source": [
    "cross_val_score(model, X_train, Y_train, cv=5)\n",
    "scores = cross_val_score(model, X_train, Y_train, scoring='accuracy', cv=5, n_jobs=-1)\n",
    "\n",
    "model.fit(X_train, Y_train)\n",
    "score = model.score(X_test, Y_test)\n",
    "print(\"Model score 1: \", score)\n",
    "modelScore.append(score)"
   ]
  },
  {
   "cell_type": "code",
   "execution_count": 83,
   "id": "ee00481e",
   "metadata": {},
   "outputs": [
    {
     "name": "stdout",
     "output_type": "stream",
     "text": [
      "Score of Test: 0.975\n",
      "   Model #  Accuracy\n",
      "0  Model 1  0.958333\n",
      "1  Model 1  0.965278\n",
      "2  Model 1  0.972125\n",
      "3  Model 1  0.947735\n"
     ]
    }
   ],
   "source": [
    "modelDF = pd.DataFrame(columns=['Model #', 'Accuracy'], dtype=object)\n",
    "for i in range(4):\n",
    "    modelDF.loc[i] = ['Model 1', scores[i]]\n",
    "\n",
    "test = round(model.score(X_test, Y_test),5)\n",
    "testScore.append(test)\n",
    "print('Score of Test:', test)\n",
    "print(modelDF)"
   ]
  },
  {
   "cell_type": "code",
   "execution_count": 84,
   "id": "4ed41a9f",
   "metadata": {},
   "outputs": [
    {
     "name": "stdout",
     "output_type": "stream",
     "text": [
      "Model score 2:  0.9861111111111112\n"
     ]
    }
   ],
   "source": [
    "model2 = MLPClassifier(hidden_layer_sizes=(400,150,50), max_iter=500,activation = 'relu',solver='adam',random_state=1).fit(X_train, Y_train)\n",
    "cross_val_score(model2, X_train, Y_train, cv=5)\n",
    "scores = cross_val_score(model2, X_train, Y_train, scoring='accuracy', cv=5, n_jobs=-1)\n",
    "\n",
    "model2.fit(X_train, Y_train)\n",
    "score = model2.score(X_test, Y_test)\n",
    "print(\"Model score 2: \", score)\n",
    "modelScore.append(score)\n"
   ]
  },
  {
   "cell_type": "code",
   "execution_count": 85,
   "id": "6e8d607d",
   "metadata": {},
   "outputs": [
    {
     "name": "stdout",
     "output_type": "stream",
     "text": [
      "Score of Test: 0.98611\n",
      "   Model #  Accuracy\n",
      "0  Model 1  0.958333\n",
      "1  Model 1  0.965278\n",
      "2  Model 1  0.972125\n",
      "3  Model 1  0.947735\n",
      "4  Model 2  0.972222\n",
      "5  Model 2  0.982639\n",
      "6  Model 2  0.989547\n",
      "7  Model 2  0.979094\n"
     ]
    }
   ],
   "source": [
    "modelDF2 = pd.DataFrame(columns=['Model #', 'Accuracy'], dtype=object)\n",
    "for i in range(4):\n",
    "    modelDF2.loc[i] = ['Model 2', scores[i]]\n",
    "\n",
    "test = round(model2.score(X_test, Y_test),5)\n",
    "testScore.append(test)\n",
    "modelDF= modelDF.append(modelDF2, ignore_index = True)\n",
    "print('Score of Test:', test)\n",
    "print(modelDF)"
   ]
  },
  {
   "cell_type": "code",
   "execution_count": 86,
   "id": "a03b4e18",
   "metadata": {},
   "outputs": [
    {
     "name": "stdout",
     "output_type": "stream",
     "text": [
      "Model score 3:  0.975\n"
     ]
    }
   ],
   "source": [
    "model3 = MLPClassifier(hidden_layer_sizes=(400,150,50), max_iter=500,activation = 'logistic',solver='adam',random_state=1).fit(X_train, Y_train)\n",
    "cross_val_score(model3, X_train, Y_train, cv=5)\n",
    "scores = cross_val_score(model3, X_train, Y_train, scoring='accuracy', cv=5, n_jobs=-1)\n",
    "\n",
    "model3.fit(X_train, Y_train)\n",
    "score = model3.score(X_test, Y_test)\n",
    "print(\"Model score 3: \", score)\n",
    "modelScore.append(score)"
   ]
  },
  {
   "cell_type": "code",
   "execution_count": 87,
   "id": "7e7b4270",
   "metadata": {},
   "outputs": [
    {
     "name": "stdout",
     "output_type": "stream",
     "text": [
      "Score of Test: 0.975\n",
      "    Model #  Accuracy\n",
      "0   Model 1  0.958333\n",
      "1   Model 1  0.965278\n",
      "2   Model 1  0.972125\n",
      "3   Model 1  0.947735\n",
      "4   Model 2  0.972222\n",
      "5   Model 2  0.982639\n",
      "6   Model 2  0.989547\n",
      "7   Model 2  0.979094\n",
      "8   Model 3  0.958333\n",
      "9   Model 3  0.975694\n",
      "10  Model 3  0.989547\n",
      "11  Model 3  0.975610\n"
     ]
    }
   ],
   "source": [
    "modelDF3 = pd.DataFrame(columns=['Model #', 'Accuracy'], dtype=object)\n",
    "for i in range(4):\n",
    "    modelDF3.loc[i] = ['Model 3', scores[i]]\n",
    "\n",
    "test = round(model3.score(X_test, Y_test),5)\n",
    "testScore.append(test)\n",
    "modelDF= modelDF.append(modelDF3, ignore_index = True)\n",
    "print('Score of Test:', test)\n",
    "print(modelDF)"
   ]
  },
  {
   "cell_type": "code",
   "execution_count": 88,
   "id": "a7e73ebf",
   "metadata": {},
   "outputs": [
    {
     "name": "stdout",
     "output_type": "stream",
     "text": [
      "Model score 4:  0.9611111111111111\n"
     ]
    }
   ],
   "source": [
    "model4 = MLPClassifier(hidden_layer_sizes=(64,32,8), max_iter=500,activation = 'relu',solver='adam',random_state=1).fit(X_train, Y_train)\n",
    "cross_val_score(model4, X_train, Y_train, cv=5)\n",
    "scores = cross_val_score(model4, X_train, Y_train, scoring='accuracy', cv=5, n_jobs=-1)\n",
    "\n",
    "model4.fit(X_train, Y_train)\n",
    "score = model4.score(X_test, Y_test)\n",
    "print(\"Model score 4: \", score)\n",
    "modelScore.append(score)"
   ]
  },
  {
   "cell_type": "code",
   "execution_count": 89,
   "id": "e1072636",
   "metadata": {},
   "outputs": [
    {
     "name": "stdout",
     "output_type": "stream",
     "text": [
      "Score of Test: 0.96111\n",
      "    Model #  Accuracy\n",
      "0   Model 1  0.958333\n",
      "1   Model 1  0.965278\n",
      "2   Model 1  0.972125\n",
      "3   Model 1  0.947735\n",
      "4   Model 2  0.972222\n",
      "5   Model 2  0.982639\n",
      "6   Model 2  0.989547\n",
      "7   Model 2  0.979094\n",
      "8   Model 3  0.958333\n",
      "9   Model 3  0.975694\n",
      "10  Model 3  0.989547\n",
      "11  Model 3  0.975610\n",
      "12  Model 4  0.951389\n",
      "13  Model 4  0.947917\n",
      "14  Model 4  0.958188\n",
      "15  Model 4  0.944251\n"
     ]
    }
   ],
   "source": [
    "modelDF4 = pd.DataFrame(columns=['Model #', 'Accuracy'], dtype=object)\n",
    "for i in range(4):\n",
    "    modelDF4.loc[i] = ['Model 4', scores[i]]\n",
    "\n",
    "test = round(model4.score(X_test, Y_test),5)\n",
    "testScore.append(test)\n",
    "modelDF= modelDF.append(modelDF4, ignore_index = True)\n",
    "print('Score of Test:', test)\n",
    "print(modelDF)"
   ]
  },
  {
   "cell_type": "code",
   "execution_count": 90,
   "id": "619f7275",
   "metadata": {},
   "outputs": [
    {
     "name": "stdout",
     "output_type": "stream",
     "text": [
      "Model score 5:  0.975\n"
     ]
    }
   ],
   "source": [
    "model5 = MLPClassifier(hidden_layer_sizes=(32,16), max_iter=500,activation = 'logistic',solver='adam',random_state=1).fit(X_train, Y_train)\n",
    "cross_val_score(model5, X_train, Y_train, cv=5)\n",
    "scores = cross_val_score(model5, X_train, Y_train, scoring='accuracy', cv=5, n_jobs=-1)\n",
    "\n",
    "model5.fit(X_train, Y_train)\n",
    "score = model5.score(X_test, Y_test)\n",
    "print(\"Model score 5: \", score)\n",
    "modelScore.append(score)"
   ]
  },
  {
   "cell_type": "code",
   "execution_count": 91,
   "id": "d896a7e2",
   "metadata": {},
   "outputs": [
    {
     "name": "stdout",
     "output_type": "stream",
     "text": [
      "Score of Test: 0.975\n",
      "    Model #  Accuracy\n",
      "0   Model 1  0.958333\n",
      "1   Model 1  0.965278\n",
      "2   Model 1  0.972125\n",
      "3   Model 1  0.947735\n",
      "4   Model 2  0.972222\n",
      "5   Model 2  0.982639\n",
      "6   Model 2  0.989547\n",
      "7   Model 2  0.979094\n",
      "8   Model 3  0.958333\n",
      "9   Model 3  0.975694\n",
      "10  Model 3  0.989547\n",
      "11  Model 3  0.975610\n",
      "12  Model 4  0.951389\n",
      "13  Model 4  0.947917\n",
      "14  Model 4  0.958188\n",
      "15  Model 4  0.944251\n",
      "16  Model 5  0.947917\n",
      "17  Model 5  0.951389\n",
      "18  Model 5  0.972125\n",
      "19  Model 5  0.947735\n"
     ]
    }
   ],
   "source": [
    "modelDF5 = pd.DataFrame(columns=['Model #', 'Accuracy'], dtype=object)\n",
    "for i in range(4):\n",
    "    modelDF5.loc[i] = ['Model 5', scores[i]]\n",
    "\n",
    "test = round(model5.score(X_test, Y_test),5)\n",
    "testScore.append(test)\n",
    "modelDF= modelDF.append(modelDF5, ignore_index = True)\n",
    "print('Score of Test:', test)\n",
    "print(modelDF)"
   ]
  },
  {
   "cell_type": "code",
   "execution_count": 92,
   "id": "a7000f65",
   "metadata": {},
   "outputs": [
    {
     "name": "stdout",
     "output_type": "stream",
     "text": [
      "Model score 6:  0.9694444444444444\n"
     ]
    }
   ],
   "source": [
    "model6 = MLPClassifier(hidden_layer_sizes=(120,64,16), max_iter=500,activation = 'relu',solver='adam',random_state=1).fit(X_train, Y_train)\n",
    "cross_val_score(model6, X_train, Y_train, cv=5)\n",
    "scores = cross_val_score(model6, X_train, Y_train, scoring='accuracy', cv=5, n_jobs=-1)\n",
    "\n",
    "model6.fit(X_train, Y_train)\n",
    "score = model6.score(X_test, Y_test)\n",
    "print(\"Model score 6: \", score)\n",
    "modelScore.append(score)"
   ]
  },
  {
   "cell_type": "code",
   "execution_count": 93,
   "id": "89c7f220",
   "metadata": {},
   "outputs": [
    {
     "name": "stdout",
     "output_type": "stream",
     "text": [
      "Score of Test: 0.96944\n",
      "    Model #  Accuracy\n",
      "0   Model 1  0.958333\n",
      "1   Model 1  0.965278\n",
      "2   Model 1  0.972125\n",
      "3   Model 1  0.947735\n",
      "4   Model 2  0.972222\n",
      "5   Model 2  0.982639\n",
      "6   Model 2  0.989547\n",
      "7   Model 2  0.979094\n",
      "8   Model 3  0.958333\n",
      "9   Model 3  0.975694\n",
      "10  Model 3  0.989547\n",
      "11  Model 3  0.975610\n",
      "12  Model 4  0.951389\n",
      "13  Model 4  0.947917\n",
      "14  Model 4  0.958188\n",
      "15  Model 4  0.944251\n",
      "16  Model 5  0.947917\n",
      "17  Model 5  0.951389\n",
      "18  Model 5  0.972125\n",
      "19  Model 5  0.947735\n",
      "20  Model 6  0.972222\n",
      "21  Model 6  0.975694\n",
      "22  Model 6  0.979094\n",
      "23  Model 6  0.972125\n"
     ]
    }
   ],
   "source": [
    "modelDF6 = pd.DataFrame(columns=['Model #', 'Accuracy'], dtype=object)\n",
    "for i in range(4):\n",
    "    modelDF6.loc[i] = ['Model 6', scores[i]]\n",
    "\n",
    "test = round(model6.score(X_test, Y_test),5)\n",
    "testScore.append(test)\n",
    "modelDF= modelDF.append(modelDF6, ignore_index = True)\n",
    "print('Score of Test:', test)\n",
    "print(modelDF)"
   ]
  },
  {
   "cell_type": "code",
   "execution_count": 94,
   "id": "cf4bf10c",
   "metadata": {},
   "outputs": [
    {
     "name": "stdout",
     "output_type": "stream",
     "text": [
      "Model score 7:  0.975\n"
     ]
    }
   ],
   "source": [
    "model7 = MLPClassifier(hidden_layer_sizes=(320,120,32), max_iter=500,activation = 'relu',solver='adam',random_state=1).fit(X_train, Y_train)\n",
    "cross_val_score(model4, X_train, Y_train, cv=5)\n",
    "scores = cross_val_score(model7, X_train, Y_train, scoring='accuracy', cv=5, n_jobs=-1)\n",
    "\n",
    "model7.fit(X_train, Y_train)\n",
    "score = model7.score(X_test, Y_test)\n",
    "print(\"Model score 7: \", score)\n",
    "modelScore.append(score)"
   ]
  },
  {
   "cell_type": "code",
   "execution_count": 95,
   "id": "095016e1",
   "metadata": {},
   "outputs": [
    {
     "name": "stdout",
     "output_type": "stream",
     "text": [
      "Score of Test: 0.975\n",
      "    Model #  Accuracy\n",
      "0   Model 1  0.958333\n",
      "1   Model 1  0.965278\n",
      "2   Model 1  0.972125\n",
      "3   Model 1  0.947735\n",
      "4   Model 2  0.972222\n",
      "5   Model 2  0.982639\n",
      "6   Model 2  0.989547\n",
      "7   Model 2  0.979094\n",
      "8   Model 3  0.958333\n",
      "9   Model 3  0.975694\n",
      "10  Model 3  0.989547\n",
      "11  Model 3  0.975610\n",
      "12  Model 4  0.951389\n",
      "13  Model 4  0.947917\n",
      "14  Model 4  0.958188\n",
      "15  Model 4  0.944251\n",
      "16  Model 5  0.947917\n",
      "17  Model 5  0.951389\n",
      "18  Model 5  0.972125\n",
      "19  Model 5  0.947735\n",
      "20  Model 6  0.972222\n",
      "21  Model 6  0.975694\n",
      "22  Model 6  0.979094\n",
      "23  Model 6  0.972125\n",
      "24  Model 7  0.965278\n",
      "25  Model 7  0.968750\n",
      "26  Model 7  0.993031\n",
      "27  Model 7  0.975610\n"
     ]
    }
   ],
   "source": [
    "modelDF7 = pd.DataFrame(columns=['Model #', 'Accuracy'], dtype=object)\n",
    "for i in range(4):\n",
    "    modelDF7.loc[i] = ['Model 7', scores[i]]\n",
    "\n",
    "test = round(model7.score(X_test, Y_test),5)\n",
    "testScore.append(test)\n",
    "modelDF= modelDF.append(modelDF7, ignore_index = True)\n",
    "print('Score of Test:', test)\n",
    "print(modelDF)"
   ]
  },
  {
   "cell_type": "code",
   "execution_count": 98,
   "id": "868bea22",
   "metadata": {},
   "outputs": [
    {
     "name": "stdout",
     "output_type": "stream",
     "text": [
      "[0.975, 0.98611, 0.975, 0.96111, 0.975, 0.96944, 0.975]\n"
     ]
    },
    {
     "data": {
      "text/plain": [
       "[<matplotlib.lines.Line2D at 0x7f90845cb730>]"
      ]
     },
     "execution_count": 98,
     "metadata": {},
     "output_type": "execute_result"
    },
    {
     "data": {
      "image/png": "[encoded data removed]",
      "text/plain": [
       "<Figure size 432x288 with 1 Axes>"
      ]
     },
     "metadata": {},
     "output_type": "display_data"
    }
   ],
   "source": [
    "import seaborn as sns\n",
    "sns.set_theme(style=\"whitegrid\")\n",
    "tips = sns.load_dataset(\"tips\")\n",
    "print(testScore)\n",
    "ax = sns.violinplot(x=\"Model #\", y=\"Accuracy\", data=modelDF)\n",
    "ax.plot(testScore, \"X\", markersize=12, color= 'blue')"
   ]
  },
  {
   "cell_type": "code",
   "execution_count": null,
   "id": "23efc66b",
   "metadata": {},
   "outputs": [],
   "source": []
  }
 ],
 "metadata": {
  "kernelspec": {
   "display_name": "Python 3",
   "language": "python",
   "name": "python3"
  },
  "language_info": {
   "codemirror_mode": {
    "name": "ipython",
    "version": 3
   },
   "file_extension": ".py",
   "mimetype": "text/x-python",
   "name": "python",
   "nbconvert_exporter": "python",
   "pygments_lexer": "ipython3",
   "version": "3.8.8"
  }
 },
 "nbformat": 4,
 "nbformat_minor": 5
}
