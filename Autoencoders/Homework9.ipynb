{
 "cells": [
  {
   "cell_type": "code",
   "execution_count": 53,
   "id": "59bf37a1",
   "metadata": {},
   "outputs": [],
   "source": [
    "import tensorflow\n",
    "from tensorflow import keras\n",
    "from tensorflow.keras.layers import BatchNormalization\n",
    "from tensorflow.keras.layers import Conv2D\n",
    "from tensorflow.keras.layers import Conv2DTranspose\n",
    "from tensorflow.keras.layers import LeakyReLU\n",
    "from tensorflow.keras.layers import Activation\n",
    "from tensorflow.keras.layers import Flatten\n",
    "from tensorflow.keras.layers import Dense\n",
    "from tensorflow.keras.layers import Reshape\n",
    "from tensorflow.keras.layers import Input\n",
    "from tensorflow.keras.models import Model\n",
    "from tensorflow.keras import backend as K\n",
    "import numpy as np\n",
    "from tensorflow.keras.layers import Dense, Input, Conv2D, LSTM, MaxPool2D, UpSampling2D\n",
    "from sklearn.model_selection import train_test_split\n",
    "from tensorflow.keras.callbacks import EarlyStopping\n",
    "from tensorflow.keras.utils import to_categorical\n",
    "from numpy import argmax, array_equal\n",
    "import matplotlib.pyplot as plt\n",
    "import seaborn as sns\n",
    "from tensorflow.keras.models import Model\n",
    "from random import randint\n",
    "import pandas as pd\n",
    "import numpy as np\n",
    "from tensorflow.keras import layers\n",
    "from PIL import Image\n",
    "from tensorflow.keras import regularizers\n",
    "from tensorflow.keras import backend\n",
    "from datetime import datetime"
   ]
  },
  {
   "cell_type": "code",
   "execution_count": 54,
   "id": "71deecf3",
   "metadata": {},
   "outputs": [],
   "source": [
    "np.random.seed(42)"
   ]
  },
  {
   "cell_type": "code",
   "execution_count": 55,
   "id": "8adf7132",
   "metadata": {},
   "outputs": [
    {
     "data": {
      "text/plain": [
       "((48000, 28, 28), (12000, 28, 28), (10000, 28, 28))"
      ]
     },
     "execution_count": 55,
     "metadata": {},
     "output_type": "execute_result"
    }
   ],
   "source": [
    "input_shape = (28, 28, 1)\n",
    "\n",
    "# the data, split between train and test sets\n",
    "(x_train_valid, y_train_valid), (x_test, y_test) = keras.datasets.fashion_mnist.load_data()\n",
    "x_train, x_validation, y_train, y_validation = train_test_split(x_train_valid, y_train_valid, test_size=0.2, random_state=0)\n",
    "\n",
    "# Scale images to the [0, 1] range\n",
    "x_train = x_train.astype(\"float32\") / 255\n",
    "x_validation = x_validation.astype(\"float32\") / 255\n",
    "x_test = x_test.astype(\"float32\") / 255\n",
    "\n",
    "x_train.shape, x_validation.shape, x_test.shape"
   ]
  },
  {
   "cell_type": "code",
   "execution_count": 56,
   "id": "3c4f8def",
   "metadata": {},
   "outputs": [
    {
     "data": {
      "text/plain": [
       "((48000, 784), (12000, 784), (10000, 784))"
      ]
     },
     "execution_count": 56,
     "metadata": {},
     "output_type": "execute_result"
    }
   ],
   "source": [
    "# Reshape the images into flat ANN layers\n",
    "x_train = x_train.reshape(-1, 784)\n",
    "x_validation = x_validation.reshape(-1, 784)\n",
    "x_test = x_test.reshape(-1, 784)\n",
    "\n",
    "x_train.shape, x_validation.shape, x_test.shape"
   ]
  },
  {
   "cell_type": "code",
   "execution_count": 57,
   "id": "8528d728",
   "metadata": {},
   "outputs": [],
   "source": [
    "input_layer = Input(shape=(784,))   # 28*28\n",
    "## encoding architecture\n",
    "encode_layer1 = Dense(128, activation='relu')(input_layer)\n",
    "encode_layer2 = Dense(64, activation='relu')(encode_layer1)\n",
    "encode_layer3 = Dense(32, activation='relu')(encode_layer2)\n",
    "\n",
    "## decoding architecture\n",
    "decode_layer1 = Dense(64, activation='relu')(encode_layer3)\n",
    "decode_layer2 = Dense(128, activation='relu')(decode_layer1)\n",
    "decode_layer3 = Dense(784, activation='relu')(decode_layer2)\n",
    "\n",
    "# reconstruction model:\n",
    "autoencoder = keras.Model(input_layer, decode_layer3)\n",
    "\n",
    "# encoder model:\n",
    "encoder = keras.Model(input_layer, encode_layer3)\n",
    "\n",
    "# decoder model:\n",
    "encoded_input = keras.Input(shape=(32,))\n",
    "decoder_layer = autoencoder.layers[-3]  # decoder layers of autoencoder model\n",
    "decoder = keras.Model(encoded_input, decoder_layer(encoded_input))"
   ]
  },
  {
   "cell_type": "code",
   "execution_count": 58,
   "id": "49c3b6e8",
   "metadata": {},
   "outputs": [
    {
     "name": "stdout",
     "output_type": "stream",
     "text": [
      "Epoch 1/30\n",
      "24/24 [==============================] - 5s 141ms/step - loss: 1.3743 - val_loss: 0.8901\n",
      "Epoch 2/30\n",
      "24/24 [==============================] - 4s 179ms/step - loss: 0.8314 - val_loss: 0.8100\n",
      "Epoch 3/30\n",
      "24/24 [==============================] - 3s 138ms/step - loss: 0.7871 - val_loss: 0.7546\n",
      "Epoch 4/30\n",
      "24/24 [==============================] - 3s 121ms/step - loss: 0.6977 - val_loss: 0.6496\n",
      "Epoch 5/30\n",
      "24/24 [==============================] - 3s 116ms/step - loss: 0.6287 - val_loss: 0.6156\n",
      "Epoch 6/30\n",
      "24/24 [==============================] - 3s 116ms/step - loss: 0.6108 - val_loss: 0.6063\n",
      "Epoch 7/30\n",
      "24/24 [==============================] - 3s 124ms/step - loss: 0.5937 - val_loss: 0.5870\n",
      "Epoch 8/30\n",
      "24/24 [==============================] - 3s 123ms/step - loss: 0.5797 - val_loss: 0.5782\n",
      "Epoch 9/30\n",
      "24/24 [==============================] - 3s 129ms/step - loss: 0.5647 - val_loss: 0.5640\n",
      "Epoch 10/30\n",
      "24/24 [==============================] - 3s 125ms/step - loss: 0.5740 - val_loss: 0.5584\n",
      "Epoch 11/30\n",
      "24/24 [==============================] - 3s 125ms/step - loss: 0.5463 - val_loss: 0.5356\n",
      "Epoch 12/30\n",
      "24/24 [==============================] - 3s 120ms/step - loss: 0.5277 - val_loss: 0.5277\n",
      "Epoch 13/30\n",
      "24/24 [==============================] - 4s 152ms/step - loss: 0.5230 - val_loss: 0.5237\n",
      "Epoch 14/30\n",
      "24/24 [==============================] - 3s 107ms/step - loss: 0.5198 - val_loss: 0.5055\n",
      "Epoch 15/30\n",
      "24/24 [==============================] - 3s 109ms/step - loss: 0.4997 - val_loss: 0.4963\n",
      "Epoch 16/30\n",
      "24/24 [==============================] - 3s 110ms/step - loss: 0.4858 - val_loss: 0.4856\n",
      "Epoch 17/30\n",
      "24/24 [==============================] - 3s 114ms/step - loss: 0.4821 - val_loss: 0.4831\n",
      "Epoch 18/30\n",
      "24/24 [==============================] - 3s 116ms/step - loss: 0.4785 - val_loss: 0.4789\n",
      "Epoch 19/30\n",
      "24/24 [==============================] - 3s 112ms/step - loss: 0.4740 - val_loss: 0.4759\n",
      "Epoch 20/30\n",
      "24/24 [==============================] - 3s 125ms/step - loss: 0.4651 - val_loss: 0.4658\n",
      "Epoch 21/30\n",
      "24/24 [==============================] - 3s 116ms/step - loss: 0.4612 - val_loss: 0.4628\n",
      "Epoch 22/30\n",
      "24/24 [==============================] - 3s 116ms/step - loss: 0.4809 - val_loss: 0.4845\n",
      "Epoch 23/30\n",
      "24/24 [==============================] - 2s 103ms/step - loss: 0.4737 - val_loss: 0.4691\n",
      "Epoch 24/30\n",
      "24/24 [==============================] - 3s 106ms/step - loss: 0.4605 - val_loss: 0.4536\n",
      "Epoch 25/30\n",
      "24/24 [==============================] - 3s 107ms/step - loss: 0.4510 - val_loss: 0.4528\n",
      "Epoch 26/30\n",
      "24/24 [==============================] - 3s 109ms/step - loss: 0.4484 - val_loss: 0.4506\n",
      "Epoch 27/30\n",
      "24/24 [==============================] - 3s 115ms/step - loss: 0.4501 - val_loss: 0.4515\n",
      "Epoch 28/30\n",
      "24/24 [==============================] - 3s 139ms/step - loss: 0.4467 - val_loss: 0.4483\n",
      "Epoch 29/30\n",
      "24/24 [==============================] - 3s 108ms/step - loss: 0.4460 - val_loss: 0.4507\n",
      "Epoch 30/30\n",
      "24/24 [==============================] - 3s 128ms/step - loss: 0.4337 - val_loss: 0.4353\n"
     ]
    },
    {
     "data": {
      "text/plain": [
       "<keras.callbacks.History at 0x7faf6237c850>"
      ]
     },
     "execution_count": 58,
     "metadata": {},
     "output_type": "execute_result"
    }
   ],
   "source": [
    "autoencoder.compile(optimizer='adam', loss='binary_crossentropy')\n",
    "\n",
    "autoencoder.fit(x_train, x_train,\n",
    "                epochs=30,\n",
    "                batch_size=2048,\n",
    "                shuffle=True,\n",
    "                validation_data=(x_test, x_test))"
   ]
  },
  {
   "cell_type": "code",
   "execution_count": 59,
   "id": "fb1c8507",
   "metadata": {},
   "outputs": [],
   "source": [
    "encoded_imgs = encoder.predict(x_test)\n",
    "decoded_imgs = decoder.predict(encoded_imgs)"
   ]
  },
  {
   "cell_type": "code",
   "execution_count": 60,
   "id": "d9bf77da",
   "metadata": {},
   "outputs": [
    {
     "data": {
      "image/png": "[encoded data removed]",
      "text/plain": [
       "<Figure size 1440x288 with 20 Axes>"
      ]
     },
     "metadata": {
      "needs_background": "light"
     },
     "output_type": "display_data"
    }
   ],
   "source": [
    "predictions = autoencoder.predict(x_test)\n",
    "\n",
    "n = 10\n",
    "plt.figure(figsize=(20, 4))\n",
    "for i in range(n):\n",
    "    # original\n",
    "    ax = plt.subplot(2, n, i + 1)\n",
    "    plt.imshow(x_test[i].reshape(28, 28))\n",
    "    plt.gray()\n",
    "    ax.get_xaxis().set_visible(False)\n",
    "    ax.get_yaxis().set_visible(False)\n",
    "\n",
    "    # reconstruction\n",
    "    ax = plt.subplot(2, n, i + 1 + n)\n",
    "    plt.imshow(predictions[i].reshape(28, 28))\n",
    "    plt.gray()\n",
    "    ax.get_xaxis().set_visible(False)\n",
    "    ax.get_yaxis().set_visible(False)\n",
    "plt.show()"
   ]
  },
  {
   "cell_type": "code",
   "execution_count": 61,
   "id": "b3f44dc9",
   "metadata": {},
   "outputs": [
    {
     "name": "stdout",
     "output_type": "stream",
     "text": [
      "Model: \"model_38\"\n",
      "_________________________________________________________________\n",
      "Layer (type)                 Output Shape              Param #   \n",
      "=================================================================\n",
      "input_26 (InputLayer)        [(None, 784)]             0         \n",
      "_________________________________________________________________\n",
      "dense_58 (Dense)             (None, 128)               100480    \n",
      "_________________________________________________________________\n",
      "dense_59 (Dense)             (None, 64)                8256      \n",
      "_________________________________________________________________\n",
      "dense_60 (Dense)             (None, 32)                2080      \n",
      "=================================================================\n",
      "Total params: 110,816\n",
      "Trainable params: 110,816\n",
      "Non-trainable params: 0\n",
      "_________________________________________________________________\n"
     ]
    }
   ],
   "source": [
    "encoder.summary()\n"
   ]
  },
  {
   "cell_type": "code",
   "execution_count": 62,
   "id": "2bce4897",
   "metadata": {},
   "outputs": [
    {
     "data": {
      "text/plain": [
       "((48000, 28, 28, 1), (12000, 28, 28, 1), (10000, 28, 28, 1))"
      ]
     },
     "execution_count": 62,
     "metadata": {},
     "output_type": "execute_result"
    }
   ],
   "source": [
    "x_train = x_train.reshape(-1, 28, 28, 1)\n",
    "x_validation = x_validation.reshape(-1, 28, 28, 1)\n",
    "x_test = x_test.reshape(-1, 28, 28, 1)\n",
    "\n",
    "x_train.shape, x_validation.shape, x_test.shape"
   ]
  },
  {
   "cell_type": "code",
   "execution_count": 63,
   "id": "db5c408b",
   "metadata": {},
   "outputs": [],
   "source": [
    "noise_factor = 0.4\n",
    "x_train_noisy = x_train + noise_factor * np.random.normal(loc=0.0, scale=1.0, size=x_train.shape) \n",
    "x_validation_noisy = x_validation + noise_factor * np.random.normal(loc=0.0, scale=1.0, size=x_validation.shape) \n",
    "x_test_noisy = x_test + noise_factor * np.random.normal(loc=0.0, scale=1.0, size=x_test.shape) \n",
    "\n",
    "x_train_noisy = np.clip(x_train_noisy, 0., 1.)\n",
    "x_validation_noisy = np.clip(x_validation_noisy, 0., 1.)\n",
    "x_test_noisy = np.clip(x_test_noisy, 0., 1.)"
   ]
  },
  {
   "cell_type": "code",
   "execution_count": 64,
   "id": "1984f589",
   "metadata": {},
   "outputs": [
    {
     "data": {
      "image/png": "[encoded data removed]",
      "text/plain": [
       "<Figure size 1440x144 with 10 Axes>"
      ]
     },
     "metadata": {
      "needs_background": "light"
     },
     "output_type": "display_data"
    }
   ],
   "source": [
    "n = 10\n",
    "plt.figure(figsize=(20, 2))\n",
    "for i in range(1, n + 1):\n",
    "    ax = plt.subplot(1, n, i)\n",
    "    plt.imshow(x_test_noisy[i].reshape(28, 28))\n",
    "    plt.gray()\n",
    "    ax.get_xaxis().set_visible(False)\n",
    "    ax.get_yaxis().set_visible(False)\n",
    "plt.show()\n"
   ]
  },
  {
   "cell_type": "code",
   "execution_count": 65,
   "id": "47511550",
   "metadata": {},
   "outputs": [],
   "source": [
    "input_layer = keras.Input(shape=(28, 28, 1))\n",
    "\n",
    "x = layers.Conv2D(32, (3, 3), activation='relu', padding='same')(input_layer)\n",
    "x = layers.MaxPooling2D((2, 2), padding='same')(x)\n",
    "x = layers.Conv2D(32, (3, 3), activation='relu', padding='same')(x)\n",
    "encoded = layers.MaxPooling2D((2, 2), padding='same')(x)\n",
    "\n",
    "# At this point the representation is (7, 7, 32)\n",
    "\n",
    "x = layers.Conv2D(32, (3, 3), activation='relu', padding='same')(encoded)\n",
    "x = layers.UpSampling2D((2, 2))(x)\n",
    "x = layers.Conv2D(32, (3, 3), activation='relu', padding='same')(x)\n",
    "x = layers.UpSampling2D((2, 2))(x)\n",
    "decoded = layers.Conv2D(1, (3, 3), activation='sigmoid', padding='same')(x)\n",
    "\n",
    "autoencoder = keras.Model(input_layer, decoded)\n",
    "autoencoder.compile(optimizer='adam', loss='binary_crossentropy')"
   ]
  },
  {
   "cell_type": "code",
   "execution_count": 66,
   "id": "5f831118",
   "metadata": {},
   "outputs": [
    {
     "name": "stdout",
     "output_type": "stream",
     "text": [
      "Epoch 1/30\n",
      "24/24 [==============================] - 91s 4s/step - loss: 0.5777 - val_loss: 0.4215\n",
      "Epoch 2/30\n",
      "24/24 [==============================] - 84s 3s/step - loss: 0.3682 - val_loss: 0.3364\n",
      "Epoch 3/30\n",
      "24/24 [==============================] - 84s 3s/step - loss: 0.3293 - val_loss: 0.3232\n",
      "Epoch 4/30\n",
      "24/24 [==============================] - 83s 3s/step - loss: 0.3199 - val_loss: 0.3163\n",
      "Epoch 5/30\n",
      "24/24 [==============================] - 84s 4s/step - loss: 0.3143 - val_loss: 0.3117\n",
      "Epoch 6/30\n",
      "24/24 [==============================] - 81s 3s/step - loss: 0.3103 - val_loss: 0.3092\n",
      "Epoch 7/30\n",
      "24/24 [==============================] - 83s 3s/step - loss: 0.3075 - val_loss: 0.3058\n",
      "Epoch 8/30\n",
      "24/24 [==============================] - 83s 3s/step - loss: 0.3051 - val_loss: 0.3041\n",
      "Epoch 9/30\n",
      "24/24 [==============================] - 82s 3s/step - loss: 0.3036 - val_loss: 0.3026\n",
      "Epoch 10/30\n",
      "24/24 [==============================] - 83s 3s/step - loss: 0.3020 - val_loss: 0.3012\n",
      "Epoch 11/30\n",
      "24/24 [==============================] - 81s 3s/step - loss: 0.3009 - val_loss: 0.3001\n",
      "Epoch 12/30\n",
      "24/24 [==============================] - 86s 4s/step - loss: 0.2998 - val_loss: 0.2993\n",
      "Epoch 13/30\n",
      "24/24 [==============================] - 82s 3s/step - loss: 0.2989 - val_loss: 0.2984\n",
      "Epoch 14/30\n",
      "24/24 [==============================] - 83s 3s/step - loss: 0.2983 - val_loss: 0.2976\n",
      "Epoch 15/30\n",
      "24/24 [==============================] - 84s 3s/step - loss: 0.2977 - val_loss: 0.2972\n",
      "Epoch 16/30\n",
      "24/24 [==============================] - 85s 4s/step - loss: 0.2968 - val_loss: 0.2963\n",
      "Epoch 17/30\n",
      "24/24 [==============================] - 86s 4s/step - loss: 0.2963 - val_loss: 0.2958\n",
      "Epoch 18/30\n",
      "24/24 [==============================] - 123s 5s/step - loss: 0.2957 - val_loss: 0.2953\n",
      "Epoch 19/30\n",
      "24/24 [==============================] - 93s 4s/step - loss: 0.2953 - val_loss: 0.2952\n",
      "Epoch 20/30\n",
      "24/24 [==============================] - 99s 4s/step - loss: 0.2952 - val_loss: 0.2945\n",
      "Epoch 21/30\n",
      "24/24 [==============================] - 93s 4s/step - loss: 0.2944 - val_loss: 0.2941\n",
      "Epoch 22/30\n",
      "24/24 [==============================] - 98s 4s/step - loss: 0.2942 - val_loss: 0.2938\n",
      "Epoch 23/30\n",
      "24/24 [==============================] - 86s 4s/step - loss: 0.2938 - val_loss: 0.2935\n",
      "Epoch 24/30\n",
      "24/24 [==============================] - 83s 3s/step - loss: 0.2935 - val_loss: 0.2932\n",
      "Epoch 25/30\n",
      "24/24 [==============================] - 86s 4s/step - loss: 0.2932 - val_loss: 0.2931\n",
      "Epoch 26/30\n",
      "24/24 [==============================] - 85s 3s/step - loss: 0.2930 - val_loss: 0.2926\n",
      "Epoch 27/30\n",
      "24/24 [==============================] - 80s 3s/step - loss: 0.2927 - val_loss: 0.2925\n",
      "Epoch 28/30\n",
      "24/24 [==============================] - 82s 3s/step - loss: 0.2925 - val_loss: 0.2922\n",
      "Epoch 29/30\n",
      "24/24 [==============================] - 81s 3s/step - loss: 0.2922 - val_loss: 0.2919\n",
      "Epoch 30/30\n",
      "24/24 [==============================] - 97s 4s/step - loss: 0.2919 - val_loss: 0.2916\n"
     ]
    },
    {
     "data": {
      "text/plain": [
       "<keras.callbacks.History at 0x7faf6b74b340>"
      ]
     },
     "execution_count": 66,
     "metadata": {},
     "output_type": "execute_result"
    }
   ],
   "source": [
    "autoencoder.fit(x_train_noisy, x_train,\n",
    "                epochs=30,\n",
    "                batch_size=2048,\n",
    "                shuffle=True,\n",
    "                validation_data=(x_validation_noisy, x_validation))"
   ]
  },
  {
   "cell_type": "code",
   "execution_count": 67,
   "id": "8e2afc83",
   "metadata": {},
   "outputs": [
    {
     "name": "stdout",
     "output_type": "stream",
     "text": [
      "Model: \"model_40\"\n",
      "_________________________________________________________________\n",
      "Layer (type)                 Output Shape              Param #   \n",
      "=================================================================\n",
      "input_28 (InputLayer)        [(None, 28, 28, 1)]       0         \n",
      "_________________________________________________________________\n",
      "conv2d (Conv2D)              (None, 28, 28, 32)        320       \n",
      "_________________________________________________________________\n",
      "max_pooling2d (MaxPooling2D) (None, 14, 14, 32)        0         \n",
      "_________________________________________________________________\n",
      "conv2d_1 (Conv2D)            (None, 14, 14, 32)        9248      \n",
      "_________________________________________________________________\n",
      "max_pooling2d_1 (MaxPooling2 (None, 7, 7, 32)          0         \n",
      "_________________________________________________________________\n",
      "conv2d_2 (Conv2D)            (None, 7, 7, 32)          9248      \n",
      "_________________________________________________________________\n",
      "up_sampling2d (UpSampling2D) (None, 14, 14, 32)        0         \n",
      "_________________________________________________________________\n",
      "conv2d_3 (Conv2D)            (None, 14, 14, 32)        9248      \n",
      "_________________________________________________________________\n",
      "up_sampling2d_1 (UpSampling2 (None, 28, 28, 32)        0         \n",
      "_________________________________________________________________\n",
      "conv2d_4 (Conv2D)            (None, 28, 28, 1)         289       \n",
      "=================================================================\n",
      "Total params: 28,353\n",
      "Trainable params: 28,353\n",
      "Non-trainable params: 0\n",
      "_________________________________________________________________\n"
     ]
    }
   ],
   "source": [
    "autoencoder.summary()"
   ]
  },
  {
   "cell_type": "code",
   "execution_count": 68,
   "id": "e95c8557",
   "metadata": {},
   "outputs": [
    {
     "ename": "SyntaxError",
     "evalue": "unexpected EOF while parsing (<ipython-input-68-9bb9e6733f95>, line 19)",
     "output_type": "error",
     "traceback": [
      "\u001b[0;36m  File \u001b[0;32m\"<ipython-input-68-9bb9e6733f95>\"\u001b[0;36m, line \u001b[0;32m19\u001b[0m\n\u001b[0;31m    plt.show(\u001b[0m\n\u001b[0m             ^\u001b[0m\n\u001b[0;31mSyntaxError\u001b[0m\u001b[0;31m:\u001b[0m unexpected EOF while parsing\n"
     ]
    }
   ],
   "source": [
    "predictions = autoencoder.predict(x_test)\n",
    "\n",
    "n = 10\n",
    "plt.figure(figsize=(20, 4))\n",
    "for i in range(n):\n",
    "    # noisy\n",
    "    ax = plt.subplot(2, n, i + 1)\n",
    "    plt.imshow(x_test_noisy[i].reshape(28, 28))\n",
    "    plt.gray()\n",
    "    ax.get_xaxis().set_visible(False)\n",
    "    ax.get_yaxis().set_visible(False)\n",
    "\n",
    "    # reconstruction\n",
    "    ax = plt.subplot(2, n, i + 1 + n)\n",
    "    plt.imshow(predictions[i].reshape(28, 28))\n",
    "    plt.gray()\n",
    "    ax.get_xaxis().set_visible(False)\n",
    "    ax.get_yaxis().set_visible(False)\n",
    "plt.show("
   ]
  },
  {
   "cell_type": "code",
   "execution_count": null,
   "id": "76a6b60e",
   "metadata": {},
   "outputs": [],
   "source": []
  },
  {
   "cell_type": "code",
   "execution_count": null,
   "id": "66b6cd33",
   "metadata": {},
   "outputs": [],
   "source": []
  },
  {
   "cell_type": "code",
   "execution_count": null,
   "id": "73dd9a12",
   "metadata": {},
   "outputs": [],
   "source": []
  }
 ],
 "metadata": {
  "kernelspec": {
   "display_name": "Python 3",
   "language": "python",
   "name": "python3"
  },
  "language_info": {
   "codemirror_mode": {
    "name": "ipython",
    "version": 3
   },
   "file_extension": ".py",
   "mimetype": "text/x-python",
   "name": "python",
   "nbconvert_exporter": "python",
   "pygments_lexer": "ipython3",
   "version": "3.8.8"
  }
 },
 "nbformat": 4,
 "nbformat_minor": 5
}
